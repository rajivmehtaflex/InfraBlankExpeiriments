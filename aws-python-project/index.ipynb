{
 "cells": [
  {
   "cell_type": "code",
   "execution_count": 1,
   "metadata": {},
   "outputs": [],
   "source": [
    "event={'Records': [{'messageId': '0baa4adb-c248-46ab-b68e-2d7a2e683326', 'receiptHandle': 'AQEBTNR5vm0ScvQs3p5TE4/zz3e/J6fmlpC2Bog9kvMPC4uBn5s9syM4X30GTND1vb6mJlnp/pCFmZbD7Ut5CdgxUGvxDp61J5CSfLf/Ll+rC7BwFuHn0EAoH8msA1YqEN0a0MOTkOjXsPSZ3oxKESDWYARnjsYp6t7i9eO83uMNOdUKhjwu4Vh+JCF2zl7e4OogSTVrY+wYJ+SfmrUgSBD+HafUxTdPLvzcCfRaCjYTVlJ587VhqyhsjM6F4D/IFBEWa74iFF95uCfYZ9uXha6YE2YKhD25zs6WRtQtVT0ebIh6criVJgmtUjP97lx4dhDlhcsuroaGq/68VLMEKPDYbOpfLJUUgi8KZ0/U+q1AnH8+tI18rzaqF1pWTUtGLO0edcFzOuY03pCBoYPA9h/xl5pEjQ6qAhPijoVCRhW5uwj9O0uxUJn8rw/upA6xuNc5', 'body': '{\\n  \"Type\" : \"Notification\",\\n  \"MessageId\" : \"fb009e3c-651d-5ff7-a508-c275c1b7edd9\",\\n  \"TopicArn\" : \"arn:aws:sns:us-east-1:704948449564:GajrajTopic\",\\n  \"Subject\" : \"GTest\",\\n  \"Message\" : \"{\\\\n\\\\\"id\\\\\":\\\\\"421\\\\\",\\\\n\\\\\"schema\\\\\":\\\\\"ALGENIST__GOOGLE_ANALYTICS__GOOGLE_ANALYTICS_4400_323\\\\\",\\\\n\\\\\"company\\\\\":\\\\\"ALGENIST\\\\\",\\\\n\\\\\"channel_name\\\\\":\\\\\"GOOGLE_ANALYTICS\\\\\"\\\\n}\",\\n  \"Timestamp\" : \"2023-01-24T09:18:34.649Z\",\\n  \"SignatureVersion\" : \"1\",\\n  \"Signature\" : \"YXuWnNn4NWAu/a5V4Iv8iT7f3MHRPRy5vX94rrZf+jdx4Ew9UOHI9oSUHoV/teSmBQ1r6cqs/7ZhfPdkY3Rp2BeNOLIs9RZnRPBv/qnOZ6T1LTdrAM8oKrDR7UwvJtPATvKkXbzhKeAhyar8fqFr/WPEbOBqV0larsJfalObNxroexIoj5/AtQiyqsUR4m8Kt+4QPaB7wSBN/p1GtlSPRs6/BujHcoJJhsV6gRFQxULQ1nrBC0kzol2guKTgIMNS6rgJMYPUwtsvmZAGZrZnrh9O/X2g9qOH6/2ae0qwBWS/wZdJkwFMf34xSr2GCu8jcEisisem8dFfGPYVVRlulg==\",\\n  \"SigningCertURL\" : \"https://sns.us-east-1.amazonaws.com/SimpleNotificationService-56e67fcb41f6fec09b0196692625d385.pem\",\\n  \"UnsubscribeURL\" : \"https://sns.us-east-1.amazonaws.com/?Action=Unsubscribe&SubscriptionArn=arn:aws:sns:us-east-1:704948449564:GajrajTopic:524a7f7c-c716-4c10-854e-d72629e97c8a\"\\n}', 'attributes': {'ApproximateReceiveCount': '1', 'SentTimestamp': '1674551914692', 'SenderId': 'AIDAIT2UOQQY3AUEKVGXU', 'ApproximateFirstReceiveTimestamp': '1674551914701'}, 'messageAttributes': {}, 'md5OfBody': 'd0b6b39515213f9255b77ec0b08ba6e1', 'eventSource': 'aws:sqs', 'eventSourceARN': 'arn:aws:sqs:us-east-1:704948449564:aws-python-project-dev-HelloprodTestEventProdQueue', 'awsRegion': 'us-east-1'}]}\n"
   ]
  },
  {
   "cell_type": "code",
   "execution_count": 12,
   "metadata": {},
   "outputs": [
    {
     "data": {
      "text/plain": [
       "{'id': '421',\n",
       " 'schema': 'ALGENIST__GOOGLE_ANALYTICS__GOOGLE_ANALYTICS_4400_323',\n",
       " 'company': 'ALGENIST',\n",
       " 'channel_name': 'GOOGLE_ANALYTICS'}"
      ]
     },
     "execution_count": 12,
     "metadata": {},
     "output_type": "execute_result"
    }
   ],
   "source": [
    "import json\n",
    "body=json.loads(event['Records'][0]['body'])\n",
    "message=json.loads(body['Message'])\n",
    "message"
   ]
  },
  {
   "cell_type": "code",
   "execution_count": null,
   "metadata": {},
   "outputs": [],
   "source": []
  },
  {
   "cell_type": "code",
   "execution_count": null,
   "metadata": {},
   "outputs": [],
   "source": []
  },
  {
   "cell_type": "code",
   "execution_count": null,
   "metadata": {},
   "outputs": [],
   "source": []
  },
  {
   "cell_type": "code",
   "execution_count": null,
   "metadata": {},
   "outputs": [],
   "source": []
  },
  {
   "cell_type": "code",
   "execution_count": null,
   "metadata": {},
   "outputs": [],
   "source": []
  }
 ],
 "metadata": {
  "kernelspec": {
   "display_name": "Python 3",
   "language": "python",
   "name": "python3"
  },
  "language_info": {
   "codemirror_mode": {
    "name": "ipython",
    "version": 3
   },
   "file_extension": ".py",
   "mimetype": "text/x-python",
   "name": "python",
   "nbconvert_exporter": "python",
   "pygments_lexer": "ipython3",
   "version": "3.10.4"
  },
  "orig_nbformat": 4,
  "vscode": {
   "interpreter": {
    "hash": "3ad933181bd8a04b432d3370b9dc3b0662ad032c4dfaa4e4f1596c548f763858"
   }
  }
 },
 "nbformat": 4,
 "nbformat_minor": 2
}
